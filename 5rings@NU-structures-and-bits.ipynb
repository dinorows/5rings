{
 "cells": [
  {
   "cell_type": "markdown",
   "metadata": {},
   "source": [
    "<div style=\"text-align: right\">5 Rings @NU Computer Science Olympiad and Technical Interview Prep, Lecture 1</div>\n",
    "<div style=\"text-align: right\">Dino Konstantopoulos, 2 March 2021</div>\n"
   ]
  },
  {
   "cell_type": "markdown",
   "metadata": {},
   "source": [
    "To crack Computer Science Olympics questions and coding interviews, we need to start with real interview questions, practice on real problems, and learn their patterns.\n",
    "\n",
    "The goal of this seminar series is to prepare you for a job interview with Google, modelled from the pattern of how math students prepare for Math Olympiads. It's going to continue over the summer and the fall.\n",
    "<br />\n",
    "<center>\n",
    "<img src =ipynb.images/rings.jpeg width = 400 />\n",
    "</center>\n",
    "\n",
    "Po-Shen Loh has resurrected the United States International Mathematical Olympiad team, leading it to four first-place rankings in the last six years as the team’s head coach. Po-Shen Loh discusses his approach to coaching the United States International Mathematical Olympiad team [here](https://www.quantamagazine.org/po-shen-loh-led-the-u-s-math-team-back-to-first-place-20210216/)."
   ]
  },
  {
   "cell_type": "markdown",
   "metadata": {},
   "source": [
    "# Methodology\n",
    "Using an IDE, a compiler, and a google page to practice for a competition or an interview is like practicing for an open swim competition by practicing in the pool. Although the pool is a good start (after all, you can practice for a marathon by running on a treadmill), it needs to be complemented by open swims.\n",
    "\n",
    "<br />\n",
    "<center>\n",
    "<img src =ipynb.images/open-water-swim.jpg width = 500 />\n",
    "</center>\n",
    "\n",
    "So, that means we need to practice writing code *on paper*.\n",
    "\n",
    "<br />\n",
    "<center>\n",
    "<img src =ipynb.images/pen-paper.jpg width = 300 />\n",
    "</center>\n",
    "\n",
    "We also need to decide on a language. We will pick **python** for the simple reason that it takes less *space* to write. And time and space is of essence in a competition or technical interview.\n",
    "\n",
    "We also need to practice this:\n",
    "- Solving problems out loud, by giving a voice to your brain\n",
    "- Not rushing\n",
    "- Building up from examples\n",
    "- Pattern matching with known problems\n",
    "- Simplify and generalize\n",
    "- Solving by induction (base case and build)\n",
    "- The tooling approach, a.k.a the data structure brainstorm\n",
    "- Iterate or recurse?\n",
    "- Divide and conquer\n",
    "- Thinking about time and space complexity (O notation)\n",
    "- No sloppy coding: Think of the interview as *surgery*. If you cut through the heart, the patient dies. If your for loop ends at the wrong index, you do not have a debugger to catch the error. They do not hire you.\n",
    "- Test as you code, in stages\n",
    "- Not giving up\n",
    "\n",
    "Our first notebook will be on data structures, and on bit manipulation and recursion."
   ]
  },
  {
   "cell_type": "markdown",
   "metadata": {},
   "source": [
    "# 1. Data Structures\n",
    "<br />\n",
    "<center>\n",
    "<img src =ipynb.images/long-bridge.jpg width = 600 />\n",
    "</center>\n",
    "\n",
    "## Arrays and Strings, Dictionaries, Hash tables"
   ]
  },
  {
   "cell_type": "code",
   "execution_count": 27,
   "metadata": {},
   "outputs": [
    {
     "data": {
      "text/plain": [
       "{'1': 'I', 2: 'love', 3: 'NU'}"
      ]
     },
     "execution_count": 27,
     "metadata": {},
     "output_type": "execute_result"
    }
   ],
   "source": [
    "mydict = {'1': 'I', 2: 'love', 0b11: \"\"\"NU\"\"\"}\n",
    "mydict"
   ]
  },
  {
   "cell_type": "markdown",
   "metadata": {},
   "source": [
    "> Homework: Suppose you have an n x n matrix representing pixels. Write a function that transposes the matrix (without using numpy's .T) *in place* (no use of extra memory)\n",
    "\n",
    "## Linked lists\n",
    "\n",
    "Python does not have linked lists in its standard library."
   ]
  },
  {
   "cell_type": "code",
   "execution_count": 31,
   "metadata": {},
   "outputs": [],
   "source": [
    "class Node:\n",
    "    def __init__(self, dataval=None):\n",
    "        self.dataval = dataval\n",
    "        self.nextval = None\n",
    "\n",
    "class LinkedList:\n",
    "    def __init__(self):\n",
    "        self.headval = None\n",
    "        \n",
    "    def traverse(self):\n",
    "        printval = self.headval\n",
    "        while printval is not None:\n",
    "            print (printval.dataval)\n",
    "            printval = printval.nextval\n",
    "            \n",
    "    def add(self, newdata):\n",
    "            NewNode = Node(newdata)\n",
    "            NewNode.nextval = self.headval\n",
    "            self.headval = NewNode\n",
    "\n",
    "mylist = LinkedList()\n",
    "mylist.headval = Node(\"Mon\")\n",
    "e2 = Node(\"Tue\")\n",
    "e3 = Node(\"Wed\")\n",
    "\n",
    "# Link first Node to second node\n",
    "mylist1.headval.nextval = e2\n",
    "\n",
    "# Link second Node to third node\n",
    "e2.nextval = e3"
   ]
  },
  {
   "cell_type": "code",
   "execution_count": 32,
   "metadata": {},
   "outputs": [
    {
     "name": "stdout",
     "output_type": "stream",
     "text": [
      "Mon\n",
      "Tue\n",
      "Wed\n"
     ]
    }
   ],
   "source": [
    "mylist.traverse()"
   ]
  },
  {
   "cell_type": "markdown",
   "metadata": {},
   "source": [
    "> Homework: Two numbers are represented each as a singly linked list (each node contains a single digit, e.g. 512 = 2 -> 1 -> 5). Write a function that adds two such numbers and returns the result as a singly linked list.\n",
    "\n",
    "## Stacks (LIFO) and queues (FIFO)\n",
    "\n",
    "The built-in `list` structure that you likely use frequently in your programs can be used as a stack. Instead of `.push()`, you can use `.append()` to add new elements to the top of your stack, while `.pop()` removes the elements in LIFO order."
   ]
  },
  {
   "cell_type": "code",
   "execution_count": 36,
   "metadata": {},
   "outputs": [
    {
     "data": {
      "text/plain": [
       "['a', 'b', 'c']"
      ]
     },
     "execution_count": 36,
     "metadata": {},
     "output_type": "execute_result"
    }
   ],
   "source": [
    "myStack = []\n",
    "myStack.append('a')\n",
    "myStack.append('b')\n",
    "myStack.append('c')\n",
    "myStack"
   ]
  },
  {
   "cell_type": "code",
   "execution_count": 37,
   "metadata": {},
   "outputs": [
    {
     "data": {
      "text/plain": [
       "'c'"
      ]
     },
     "execution_count": 37,
     "metadata": {},
     "output_type": "execute_result"
    }
   ],
   "source": [
    "myStack.pop()"
   ]
  },
  {
   "cell_type": "code",
   "execution_count": 38,
   "metadata": {},
   "outputs": [
    {
     "data": {
      "text/plain": [
       "'b'"
      ]
     },
     "execution_count": 38,
     "metadata": {},
     "output_type": "execute_result"
    }
   ],
   "source": [
    "myStack.pop()"
   ]
  },
  {
   "cell_type": "code",
   "execution_count": 39,
   "metadata": {},
   "outputs": [
    {
     "data": {
      "text/plain": [
       "'a'"
      ]
     },
     "execution_count": 39,
     "metadata": {},
     "output_type": "execute_result"
    }
   ],
   "source": [
    "myStack.pop()"
   ]
  },
  {
   "cell_type": "code",
   "execution_count": 40,
   "metadata": {},
   "outputs": [
    {
     "ename": "IndexError",
     "evalue": "pop from empty list",
     "output_type": "error",
     "traceback": [
      "\u001b[1;31m---------------------------------------------------------------------------\u001b[0m",
      "\u001b[1;31mIndexError\u001b[0m                                Traceback (most recent call last)",
      "\u001b[1;32m<ipython-input-40-295b95af4d0e>\u001b[0m in \u001b[0;36m<module>\u001b[1;34m\u001b[0m\n\u001b[1;32m----> 1\u001b[1;33m \u001b[0mmyStack\u001b[0m\u001b[1;33m.\u001b[0m\u001b[0mpop\u001b[0m\u001b[1;33m(\u001b[0m\u001b[1;33m)\u001b[0m\u001b[1;33m\u001b[0m\u001b[1;33m\u001b[0m\u001b[0m\n\u001b[0m",
      "\u001b[1;31mIndexError\u001b[0m: pop from empty list"
     ]
    }
   ],
   "source": [
    "myStack.pop()"
   ]
  },
  {
   "cell_type": "markdown",
   "metadata": {},
   "source": [
    "The biggest issue with lists is that they can run into performance issues as it grows. The items in a list are stored with the goal of providing fast access to random elements in the list. At a high level, this means that the items are stored next to each other in memory. If your stack grows bigger than the block of memory that currently holds it, then Python needs to do some memory allocations. This can lead to some `.append()` calls taking much longer than other ones.\n",
    "\n",
    "Also, if you use `.insert()` to add an element to your stack at a position other than the end, it can take much longer. "
   ]
  },
  {
   "cell_type": "code",
   "execution_count": 41,
   "metadata": {},
   "outputs": [
    {
     "data": {
      "text/plain": [
       "['a', 'b', 'c']"
      ]
     },
     "execution_count": 41,
     "metadata": {},
     "output_type": "execute_result"
    }
   ],
   "source": [
    "myqueue = []\n",
    "myqueue.append('a')\n",
    "myqueue.append('b')\n",
    "myqueue.append('c')\n",
    "myqueue "
   ]
  },
  {
   "cell_type": "code",
   "execution_count": 42,
   "metadata": {},
   "outputs": [
    {
     "data": {
      "text/plain": [
       "'a'"
      ]
     },
     "execution_count": 42,
     "metadata": {},
     "output_type": "execute_result"
    }
   ],
   "source": [
    "myqueue.pop(0)"
   ]
  },
  {
   "cell_type": "code",
   "execution_count": 43,
   "metadata": {},
   "outputs": [
    {
     "data": {
      "text/plain": [
       "'b'"
      ]
     },
     "execution_count": 43,
     "metadata": {},
     "output_type": "execute_result"
    }
   ],
   "source": [
    "myqueue.pop(0)"
   ]
  },
  {
   "cell_type": "code",
   "execution_count": 44,
   "metadata": {},
   "outputs": [
    {
     "data": {
      "text/plain": [
       "'c'"
      ]
     },
     "execution_count": 44,
     "metadata": {},
     "output_type": "execute_result"
    }
   ],
   "source": [
    "myqueue.pop(0)"
   ]
  },
  {
   "cell_type": "markdown",
   "metadata": {},
   "source": [
    "> Homework: Write a class that implements a queue using two stacks\n",
    "\n",
    "## Trees and Graphs\n",
    "<br />\n",
    "<center>\n",
    "<img src =ipynb.images/binary-tree.png width = 600 />\n",
    "</center>\n",
    "\n",
    "> **Binary search tree**: A binary search tree imposes the condition that, for all nodes, the left children are less than or equal to the current node, and the right children are all bigger than the current node.\n",
    "> A **balanced tree** is a tree where the depth of left and right subtrees never varies over a preset amount\n",
    "> A **trie** is a variant of an n-ary tree in which characters are stored at each node.\n",
    "\n",
    "Python's `items()`, `keys()`, and `values()` over a dictionary is a beautiful way to implement trees, even forests (many trees):"
   ]
  },
  {
   "cell_type": "code",
   "execution_count": 46,
   "metadata": {},
   "outputs": [
    {
     "name": "stdout",
     "output_type": "stream",
     "text": [
      "- Peter has 2 kid(s):\n",
      "Paul, and Mary\n",
      "- Jim has 3 kid(s):\n",
      "Huey, and Louie, and Dewie\n",
      "- Carl has 1 kid(s):\n",
      "Sam\n"
     ]
    }
   ],
   "source": [
    "Families = {'Peter':['Paul','Mary'], 'Jim':['Huey','Louie','Dewie'], 'Carl':['Sam']}\n",
    "for Parent, Children in Families.items():\n",
    "    print(f\"- {Parent} has {len(Children)} kid(s):\" )\n",
    "    print(f\"{', and '.join([str(Child) for Child in [*Children]])}\")"
   ]
  },
  {
   "cell_type": "code",
   "execution_count": 48,
   "metadata": {},
   "outputs": [
    {
     "name": "stdout",
     "output_type": "stream",
     "text": [
      "Peter has 2 kid(s):\n",
      "{'Peter': ['Paul', 'Mary']}, and Mary\n",
      "Jim has 3 kid(s):\n",
      "Huey, and Louie, and Dewie\n",
      "Carl has 1 kid(s):\n",
      "Sam\n"
     ]
    }
   ],
   "source": [
    "Families = {'Peter':[{'Peter':['Paul','Mary']},'Mary'], 'Jim':['Huey','Louie','Dewie'], 'Carl':['Sam']}\n",
    "for Parent, Children in Families.items():\n",
    "    print(f\"{Parent} has {len(Children)} kid(s):\" )\n",
    "    print(f\"{', and '.join([str(Child) for Child in [*Children]])}\")"
   ]
  },
  {
   "cell_type": "code",
   "execution_count": 50,
   "metadata": {},
   "outputs": [
    {
     "name": "stdout",
     "output_type": "stream",
     "text": [
      "Emperor: Dino\n",
      "My children: Elon Musk, Bill Gates, Jeff Bezos\n"
     ]
    }
   ],
   "source": [
    "class Tree():\n",
    "    def __init__(self,root):\n",
    "        self.root = root\n",
    "        self.children = []\n",
    "    def addNode(self,obj):\n",
    "        self.children.append(obj)\n",
    "        \n",
    "class Node():\n",
    "    def __init__(self, data):\n",
    "        self.data = data\n",
    "        self.children = []\n",
    "    def addNode(self,obj):\n",
    "        self.children.append(obj)\n",
    "        \n",
    "MyEmpire =  Tree('Dino') # Create a tree and add root data.\n",
    "print('Emperor: ' + MyEmpire.root)\n",
    "MyEmpire.addNode(Node('Elon Musk'))\n",
    "MyEmpire.addNode(Node('Bill Gates'))\n",
    "MyEmpire.addNode(Node('Jeff Bezos'))\n",
    "print(f'My children: {\", \".join(str(child.data) for child in MyEmpire.children)}')"
   ]
  },
  {
   "cell_type": "markdown",
   "metadata": {},
   "source": [
    "> Homework: Implement BFS and DFS of an n-ary tree (so I can list all non-adult children, i.e. **leaves** of a tree).\n",
    "\n",
    "> Homework: Write a function that finds the first common ancestor of two nodes of a binary tree. Avoid storing additional nodes in a data structure\n",
    "\n",
    "> Homework: You have two very large binary trees. T1 with billions of nodes, and T2 with millions of nodes. Create an algorithm to decide if T2 is a subtree of T1.\n",
    "\n",
    "A **graph** is a related data structure that is also quite popular (think complex networks of any kind), unlike a tree, the main difference is that there are bi-directional connections and no root.\n",
    "\n",
    "<br />\n",
    "<center>\n",
    "<img src =ipynb.images/tree-graph.png width = 500 />\n",
    "</center>"
   ]
  },
  {
   "cell_type": "code",
   "execution_count": 51,
   "metadata": {},
   "outputs": [],
   "source": [
    "mygraph = { \"a\" : [\"c\"],\n",
    "          \"b\" : [\"c\", \"e\"],\n",
    "          \"c\" : [\"a\", \"b\", \"d\", \"e\"],\n",
    "          \"d\" : [\"c\"],\n",
    "          \"e\" : [\"c\", \"b\"],\n",
    "          \"f\" : []\n",
    "        } "
   ]
  },
  {
   "cell_type": "code",
   "execution_count": 52,
   "metadata": {},
   "outputs": [],
   "source": [
    "def generate_edges(graph):\n",
    "    edges = []\n",
    "\n",
    "    # for each node in graph\n",
    "    for node in graph:\n",
    "\n",
    "        # for each neighbour node of a single node\n",
    "        for neighbour in graph[node]:\n",
    "            # if edge exists then append\n",
    "            edges.append((node, neighbour))\n",
    "    return edges"
   ]
  },
  {
   "cell_type": "code",
   "execution_count": 53,
   "metadata": {},
   "outputs": [
    {
     "data": {
      "text/plain": [
       "[('a', 'c'),\n",
       " ('b', 'c'),\n",
       " ('b', 'e'),\n",
       " ('c', 'a'),\n",
       " ('c', 'b'),\n",
       " ('c', 'd'),\n",
       " ('c', 'e'),\n",
       " ('d', 'c'),\n",
       " ('e', 'c'),\n",
       " ('e', 'b')]"
      ]
     },
     "execution_count": 53,
     "metadata": {},
     "output_type": "execute_result"
    }
   ],
   "source": [
    "generate_edges(mygraph)"
   ]
  },
  {
   "cell_type": "markdown",
   "metadata": {},
   "source": [
    "## Video\n",
    "Data Structures is a compulsory class for all MGEN programs, so please refer to your class material. Here is a simple refresher:\n",
    "Dazzling Data Structures - [Episode 3](https://youtu.be/tr9VckcP71M) of STEM Time With Navya and Aishwarya"
   ]
  },
  {
   "cell_type": "code",
   "execution_count": 1,
   "metadata": {},
   "outputs": [
    {
     "data": {
      "image/jpeg": "[encoded data removed]",
      "text/html": [
       "\n",
       "        <iframe\n",
       "            width=\"400\"\n",
       "            height=\"300\"\n",
       "            src=\"https://www.youtube.com/embed/tr9VckcP71M\"\n",
       "            frameborder=\"0\"\n",
       "            allowfullscreen\n",
       "        ></iframe>\n",
       "        "
      ],
      "text/plain": [
       "<IPython.lib.display.YouTubeVideo at 0x1e617b19cf8>"
      ]
     },
     "execution_count": 1,
     "metadata": {},
     "output_type": "execute_result"
    }
   ],
   "source": [
    "from IPython.lib.display import YouTubeVideo\n",
    "YouTubeVideo('tr9VckcP71M')"
   ]
  },
  {
   "cell_type": "markdown",
   "metadata": {},
   "source": [
    "## How to do your homework\n",
    "- ***Do*** google concepts you do not understand or are not too sure of\n",
    "- ***Do not*** google for solutions to your homework. If you do, you are cheating *yourself* (not me, I'm not grading you) from an opportunity to train your brain so that you are better ready for technical interview questions.\n",
    "- Write the solution ***on paper***. Yes, I know, I know... No libraries :-( I feel your pain!\n",
    "- Take a cell phone snapshot of your homework solution, create an anaconda notebook, and put the snapshot in the notebook. Have it ready for class. I just may interview *you*."
   ]
  },
  {
   "cell_type": "markdown",
   "metadata": {},
   "source": [
    "# 2. Concepts and Algorithms\n",
    "<br />\n",
    "<center>\n",
    "<img src =ipynb.images/algo.png width = 400 />\n",
    "</center>\n",
    "\n",
    "## 2.1 Bit manipulation\n",
    "Did you ever think to yourself why we count in base 10? Count the number of fingers on your hands! Now you know why Octopusses count in base 8, and computers in base 2!\n",
    "<br />\n",
    "<center>\n",
    "<img src =ipynb.images/octopus+pc.png width = 500 />\n",
    "</center>\n",
    "\n",
    "The binary system is perfect for electronic devices, which translate digits into different voltage levels. Because voltage likes to drift up and down due to various kinds of noise, you want to keep sufficient distance between consecutive voltages. Otherwise, the signal might end up distorted.\n",
    "\n",
    "By employing only **two** states, `0` and `1`, you make the system more reliable and resistant to noise.\n",
    "\n",
    "Do you know how many fingers python has? Over a [billion](https://realpython.com/python-bitwise-operators/#integers-in-python)!"
   ]
  },
  {
   "cell_type": "code",
   "execution_count": 6,
   "metadata": {},
   "outputs": [
    {
     "data": {
      "text/plain": [
       "1405006117752879898543142606244511569936384000000000"
      ]
     },
     "execution_count": 6,
     "metadata": {},
     "output_type": "execute_result"
    }
   ],
   "source": [
    "from math import factorial\n",
    "factorial(42)"
   ]
  },
  {
   "cell_type": "markdown",
   "metadata": {},
   "source": [
    "This number has fifty-two decimal digits. It would take at least 170 bits to represent it in binary with the traditional approach"
   ]
  },
  {
   "cell_type": "code",
   "execution_count": 7,
   "metadata": {},
   "outputs": [
    {
     "data": {
      "text/plain": [
       "170"
      ]
     },
     "execution_count": 7,
     "metadata": {},
     "output_type": "execute_result"
    }
   ],
   "source": [
    "factorial(42).bit_length()"
   ]
  },
  {
   "cell_type": "markdown",
   "metadata": {},
   "source": [
    "These astronomical numbers are well over the limits that any of the C-language types have to offer. They are converted into a sign-magnitude positional system, whose base is $2^{30}$."
   ]
  },
  {
   "cell_type": "code",
   "execution_count": 8,
   "metadata": {},
   "outputs": [
    {
     "data": {
      "text/plain": [
       "sys.int_info(bits_per_digit=30, sizeof_digit=4)"
      ]
     },
     "execution_count": 8,
     "metadata": {},
     "output_type": "execute_result"
    }
   ],
   "source": [
    "import sys\n",
    "sys.int_info"
   ]
  },
  {
   "cell_type": "markdown",
   "metadata": {},
   "source": [
    "Most modern civilizations use positional notation, which is efficient, flexible, and well suited for doing arithmetic. Words are most often built using position notation, with spaces separating words. Chinese is a bire more complicated.\n",
    "\n",
    "A notable feature of any positional system is its **base**, which represents the number of digits available. People naturally favor the base-ten numeral system, also known as the decimal system, because it plays nicely with counting on our 10 fingers.\n",
    "\n",
    "Computers, on the other hand, treat data as a bunch of numbers expressed in the base-two numeral system, more commonly known as the **binary system**. Such numbers are composed of only two digits, zero and one.\n",
    "\n",
    "For example, the binary number $10011100_2$ is equivalent to $156_{10}$ in the base-ten system. Because there are ten numerals in the decimal system—zero through nine—it usually takes fewer digits to write the same number in base ten than in base two.\n",
    "\n",
    "You can’t tell a numeral system just by looking at a given number’s digits.\n",
    "\n",
    "For example, the decimal number $101_{10}$ happens to use only binary digits. But it represents a completely different value than its binary counterpart, $101_2$, which is equivalent to $5_{10}$.\n",
    "\n",
    "## How it works\n",
    "Imagine for a moment that you are a computer and you only have two fingers to count on. You could count a zero (no fingers), a one (one finger), and a two (two fingers). But when you run out of fingers, you’d need to note how many times you had *already* counted to two and then start over.\n",
    "\n",
    "The table below shows the operation and reveals how are are essentially counting in powers of 2. Same way you count in powers of 10 in the human decimal system."
   ]
  },
  {
   "cell_type": "markdown",
   "metadata": {},
   "source": [
    "| Decimal | Fingers          | Eights | Fours | Twos | Ones | Binary |\n",
    "|---------|------------------|--------|-------|------|------|--------|\n",
    "| $_{10}$      | ✊                | 0      | 0     | 0    | 0    | $_2$      |\n",
    "| $1_{10}$     | ☝️               | 0      | 0     | 0    | 1    | $1_2$     |\n",
    "| $2_{10}$     | ✌️               | 0      | 0     | 1    | 0    | $10_2$    |\n",
    "| $3_{10}$     | ✌️+☝️            | 0      | 0     | 1    | 1    | $11_2$    |\n",
    "| $4_{10}$     | ✌️✌️             | 0      | 1     | 0    | 0    | $100_2$   |\n",
    "| $5_{10}$     | ✌️✌️+☝️          | 0      | 1     | 0    | 1    | $101_2$  |\n",
    "| $6_{10}$     | ✌️✌️+✌️          | 0      | 1     | 1    | 0    | $110_2$   |\n",
    "| $7_{10}$     | ✌️✌️+✌️+☝️       | 0      | 1     | 1    | 1    | $111_2$   |\n",
    "| $8_{10}$     | ✌️✌️✌️✌️         | 1      | 0     | 0    | 0    | $1000_2$  |\n",
    "| $9_{10}$     | ✌️✌️✌️✌️+☝️      | 1      | 0     | 0    | 1    | $1001_2$  |\n",
    "| $10_{10}$    | ✌️✌️✌️✌️+✌️      | 1      | 0     | 1    | 0    | $1010_2$  |\n",
    "| $11_{10}$    | ✌️✌️✌️✌️+✌️+☝️   | 1      | 0     | 1    | 1    | $1011_2$  |\n",
    "| $12_{10}$    | ✌️✌️✌️✌️+✌️✌️    | 1      | 1     | 0    | 0    | $1100_2$  |\n",
    "| $13_{10}$    | ✌️✌️✌️✌️+✌️✌️+☝️ | 1      | 1     | 0    | 1    | $1101_2$  |\n",
    "\n",
    "For example, to count up to thirteen, you would have to use both of your fingers six times and then use one more finger. Your fingers could be arranged as one eight, one four, and one one.\n",
    "\n",
    "These powers of two correspond to digit positions in a binary number and tell you exactly which bits to switch on. They grow right to left, starting at the **least-significant bit**, which determines if the number is **even** or **odd**.\n",
    "\n",
    "In modern computing, the smallest unit of information, called an octet or a **byte**, comprises eight bits that can store 256 distinct values ($2^8 = 256$). Do not confuse the *byte* with the *bit*.\n",
    "\n",
    "## Bit Operators\n",
    "\n",
    "|Operator\t|Example\t|Meaning|\n",
    "|-----------|-----------|--------|\n",
    "|&\t|a & b\t|Bitwise AND|\n",
    "||\t|a | b\t|Bitwise OR|\n",
    "|^\t|a ^ b\t|Bitwise XOR (exclusive OR)|\n",
    "    |~\t|~a\t|Bitwise NOT|\n",
    "|<< |a << n\t|Bitwise left shift|\n",
    "|>>\t|a >> n\t|Bitwise right shift|\n",
    "\n",
    "Shorthand notations for updating the left operand in place:\n",
    "\n",
    "|Operator\t|Example\t|Equivalent to|\n",
    "|-----------|----------|-------------|\n",
    "|&=\t|a &= b\t|a = a & b\n",
    "||=\t|a |= b\t|a = a | b\n",
    "|^=\t|a ^= b\t|a = a ^ b\n",
    "|<<=\t|a <<= n\t|a = a << n\n",
    "|>>=\t|a >>= n\t|a = a >> n\n",
    "\n",
    "The bitwise **NOT** operator (~),  expects just one argument, making it the only unary bitwise operator. It performs **logical negation** on a given number by flipping all of its bits: The inverted bits are a complement to one, which turns zeros into ones and ones into zeros. It can be expressed arithmetically as the subtraction of individual bit values from one.\n",
    "\n",
    "The bitwise **AND** operator (&) performs **logical conjunction** on the corresponding bits of its operands. For each pair of bits occupying the same position in the two numbers, it returns a one only when both bits are switched on. The resulting bit pattern is an **intersection** of the operator’s arguments\n",
    "\n",
    "The bitwise **OR** operator (|) performs **logical disjunction**. For each corresponding pair of bits, it returns a one if at least one of them is switched on. The resulting bit pattern is a union of the operator’s arguments. It has bits turned on where either of the operands has a one. Only a combination of two zeros gives a zero in the final output.\n",
    "\n",
    "The bitwise **XOR** operator (^) doesn’t have a logical counterpart in Python. However, you can simulate it by building on top of the existing operators:\n",
    "```(python)\n",
    "def xor(a, b):\n",
    "    return (a and not b) or (not a and b)\n",
    "```\n",
    "It evaluates two mutually exclusive conditions and tells you whether exactly one of them is met. For example, a person can be either a minor or an adult, but not both at the same time. Conversely, it’s not possible for a person to be neither a minor nor an adult. The choice is mandatory. The name XOR stands for **exclusive or** since it performs exclusive disjunction on the bit pairs. In other words, every bit pair must contain opposing bit values to produce a one.\n",
    "\n",
    "The bitwise **left shift** operator (<<) moves the bits of its first operand to the left by the number of places specified in its second operand. It also takes care of inserting enough zero bits to fill the gap that arises on the right edge of the new bit pattern. *Shifting a single bit to the left by one place doubles its value*. For example, instead of a two, the bit will indicate a four after the shift. Moving it two places to the left will quadruple the resulting value.\n",
    "\n",
    "The bitwise **right shift** operator (>>) is analogous to the left one, but instead of moving bits to the left, it pushes them to the right by the specified number of places. The rightmost bits always get dropped. *Every time you shift a bit to the right by one position, you halve its underlying value*. Moving the same bit by two places to the right produces a quarter of the original value, and so on.\n",
    "\n",
    "Here are the operators in action. Can you tell which is which?\n",
    "<br />\n",
    "<center>\n",
    "<img src =ipynb.images/not.webp width = 300 />\n",
    "</center>\n",
    "<br />\n",
    "<center>\n",
    "<img src =ipynb.images/and.webp width = 300 />\n",
    "</center>\n",
    "<br />\n",
    "<center>\n",
    "<img src =ipynb.images/or.webp width = 300 />\n",
    "</center>\n",
    "<br />\n",
    "<center>\n",
    "<img src =ipynb.images/xor.webp width = 300 />\n",
    "</center>\n",
    "<br />\n",
    "<center>\n",
    "<img src =ipynb.images/rshift.webp width = 300 />\n",
    "</center>\n",
    "<br />\n",
    "<center>\n",
    "<img src =ipynb.images/lshift.webp width = 300 />\n",
    "</center>\n",
    "\n",
    "## Converting (int) to binary"
   ]
  },
  {
   "cell_type": "code",
   "execution_count": 2,
   "metadata": {},
   "outputs": [
    {
     "name": "stdout",
     "output_type": "stream",
     "text": [
      "101010\n"
     ]
    }
   ],
   "source": [
    "print(f\"{42:b}\")  # Print 42 in binary"
   ]
  },
  {
   "cell_type": "code",
   "execution_count": 3,
   "metadata": {},
   "outputs": [
    {
     "data": {
      "text/plain": [
       "'0b101010'"
      ]
     },
     "execution_count": 3,
     "metadata": {},
     "output_type": "execute_result"
    }
   ],
   "source": [
    "bin(42)"
   ]
  },
  {
   "cell_type": "markdown",
   "metadata": {},
   "source": [
    "Another integer literal available in Python is the hexadecimal one, which is base sixteen, and takes advantage of letters `A` through `F` to augment the set of available digits, and which you can obtain with the `hex()` function:"
   ]
  },
  {
   "cell_type": "code",
   "execution_count": 4,
   "metadata": {},
   "outputs": [
    {
     "data": {
      "text/plain": [
       "'0x2a'"
      ]
     },
     "execution_count": 4,
     "metadata": {},
     "output_type": "execute_result"
    }
   ],
   "source": [
    "hex(42)"
   ]
  },
  {
   "cell_type": "markdown",
   "metadata": {},
   "source": [
    "## Converting Binary to int"
   ]
  },
  {
   "cell_type": "code",
   "execution_count": 5,
   "metadata": {},
   "outputs": [
    {
     "data": {
      "text/plain": [
       "42"
      ]
     },
     "execution_count": 5,
     "metadata": {},
     "output_type": "execute_result"
    }
   ],
   "source": [
    "0b101010"
   ]
  },
  {
   "cell_type": "markdown",
   "metadata": {},
   "source": [
    "Calling `int()` with two arguments will work better in the case of dynamically generated bit strings:"
   ]
  },
  {
   "cell_type": "code",
   "execution_count": 11,
   "metadata": {},
   "outputs": [
    {
     "data": {
      "text/plain": [
       "42"
      ]
     },
     "execution_count": 11,
     "metadata": {},
     "output_type": "execute_result"
    }
   ],
   "source": [
    "int(\"101010\", 2)"
   ]
  },
  {
   "cell_type": "code",
   "execution_count": 10,
   "metadata": {},
   "outputs": [
    {
     "data": {
      "text/plain": [
       "51966"
      ]
     },
     "execution_count": 10,
     "metadata": {},
     "output_type": "execute_result"
    }
   ],
   "source": [
    "int(\"cafe\", 16)"
   ]
  },
  {
   "cell_type": "code",
   "execution_count": 54,
   "metadata": {},
   "outputs": [
    {
     "data": {
      "text/plain": [
       "3131961357"
      ]
     },
     "execution_count": 54,
     "metadata": {},
     "output_type": "execute_result"
    }
   ],
   "source": [
    "int(\"baadf00d\", 16)"
   ]
  },
  {
   "cell_type": "markdown",
   "metadata": {},
   "source": [
    "## Getting a Bit\n",
    "To read the value of a particular bit on a given position, you can use the bitwise AND against a bitmask composed of only one bit at the desired index:"
   ]
  },
  {
   "cell_type": "code",
   "execution_count": 16,
   "metadata": {},
   "outputs": [
    {
     "data": {
      "text/plain": [
       "0"
      ]
     },
     "execution_count": 16,
     "metadata": {},
     "output_type": "execute_result"
    }
   ],
   "source": [
    "def get_bit(value, bit_index):\n",
    "    return value & (1 << bit_index)\n",
    "get_bit(0b10000000, bit_index=5)"
   ]
  },
  {
   "cell_type": "code",
   "execution_count": 13,
   "metadata": {},
   "outputs": [
    {
     "data": {
      "text/plain": [
       "32"
      ]
     },
     "execution_count": 13,
     "metadata": {},
     "output_type": "execute_result"
    }
   ],
   "source": [
    "get_bit(0b10100000, bit_index=5)"
   ]
  },
  {
   "cell_type": "markdown",
   "metadata": {},
   "source": [
    "The mask will suppress all bits except for the one that you’re interested in. It’ll result in either zero or a power of two with an exponent equal to the bit index. \n",
    "\n",
    "If you’d like to get a simple yes-or-no answer instead, then you could shift to the right and check the least-significant bit:"
   ]
  },
  {
   "cell_type": "code",
   "execution_count": 14,
   "metadata": {},
   "outputs": [
    {
     "data": {
      "text/plain": [
       "0"
      ]
     },
     "execution_count": 14,
     "metadata": {},
     "output_type": "execute_result"
    }
   ],
   "source": [
    "def get_normalized_bit(value, bit_index):\n",
    "    return (value >> bit_index) & 1\n",
    "get_normalized_bit(0b10000000, bit_index=5)"
   ]
  },
  {
   "cell_type": "code",
   "execution_count": 15,
   "metadata": {},
   "outputs": [
    {
     "data": {
      "text/plain": [
       "1"
      ]
     },
     "execution_count": 15,
     "metadata": {},
     "output_type": "execute_result"
    }
   ],
   "source": [
    "get_normalized_bit(0b10100000, bit_index=5)"
   ]
  },
  {
   "cell_type": "markdown",
   "metadata": {},
   "source": [
    "# Setting a Bit\n",
    "Setting a bit is similar to getting one. You take advantage of the same bitmask as before, but instead of using bitwise AND, you use the bitwise OR operator:"
   ]
  },
  {
   "cell_type": "code",
   "execution_count": 17,
   "metadata": {},
   "outputs": [
    {
     "data": {
      "text/plain": [
       "160"
      ]
     },
     "execution_count": 17,
     "metadata": {},
     "output_type": "execute_result"
    }
   ],
   "source": [
    "def set_bit(value, bit_index):\n",
    "    return value | (1 << bit_index)\n",
    "set_bit(0b10000000, bit_index=5)"
   ]
  },
  {
   "cell_type": "code",
   "execution_count": 18,
   "metadata": {},
   "outputs": [
    {
     "data": {
      "text/plain": [
       "'0b10100000'"
      ]
     },
     "execution_count": 18,
     "metadata": {},
     "output_type": "execute_result"
    }
   ],
   "source": [
    "bin(160)"
   ]
  },
  {
   "cell_type": "markdown",
   "metadata": {},
   "source": [
    "# Unsetting a Bit\n",
    "To clear a bit, you want to copy all binary digits while enforcing zero at one specific index. You can achieve this effect by using the same bitmask once again, but in the inverted form:"
   ]
  },
  {
   "cell_type": "code",
   "execution_count": 19,
   "metadata": {},
   "outputs": [
    {
     "data": {
      "text/plain": [
       "223"
      ]
     },
     "execution_count": 19,
     "metadata": {},
     "output_type": "execute_result"
    }
   ],
   "source": [
    "def clear_bit(value, bit_index):\n",
    "    return value & ~(1 << bit_index)\n",
    "clear_bit(0b11111111, bit_index=5)"
   ]
  },
  {
   "cell_type": "code",
   "execution_count": 21,
   "metadata": {},
   "outputs": [
    {
     "data": {
      "text/plain": [
       "'0b11011111'"
      ]
     },
     "execution_count": 21,
     "metadata": {},
     "output_type": "execute_result"
    }
   ],
   "source": [
    "bin(223)"
   ]
  },
  {
   "cell_type": "markdown",
   "metadata": {},
   "source": [
    "# Toggling a Bit\n",
    "Sometimes it’s useful to be able to toggle a bit on and off again periodically. That’s a perfect opportunity for the bitwise XOR operator, which can flip your bit like that:"
   ]
  },
  {
   "cell_type": "code",
   "execution_count": 22,
   "metadata": {},
   "outputs": [],
   "source": [
    "def toggle_bit(value, bit_index):\n",
    "    return value ^ (1 << bit_index)"
   ]
  },
  {
   "cell_type": "code",
   "execution_count": 26,
   "metadata": {},
   "outputs": [
    {
     "name": "stdout",
     "output_type": "stream",
     "text": [
      "0b10100000\n",
      "\n",
      "0b100000\n",
      "0b10100000\n",
      "0b100000\n",
      "0b10100000\n"
     ]
    }
   ],
   "source": [
    "x = 0b10100000\n",
    "print(bin(x))\n",
    "print()\n",
    "for _ in range(4):\n",
    "    x = toggle_bit(x, bit_index=7)\n",
    "    print(bin(x))"
   ]
  },
  {
   "cell_type": "markdown",
   "metadata": {},
   "source": [
    "# Homework\n",
    "You are given two 32-bit numbers M and N and two bit positions i and j. Write a method to insert M into N such that M starts at bit j and ends at bit i. Assume that the space between bits i and j is enough to hold all of M. Example:\n",
    "```(python)\n",
    "input:\n",
    "N = 0b10000000000, M = 0b10011, i = 2, j = 6\n",
    "output:\n",
    "new N = 0b10001001100\n",
    "```"
   ]
  },
  {
   "cell_type": "markdown",
   "metadata": {},
   "source": [
    "## How to do your homework\n",
    "- ***Do*** google concepts you do not understand\n",
    "- ***Do not*** google for solutions to your homework. If you do, you are cheating *yourself* (not me, I'm not grading you) from an opportunity to train your brain so that you are better ready for technical interview questions.\n",
    "- Write the solution on paper\n",
    "- Take a cell phone snapshot of your homework solution, create an anaconda notebook, and put the snapshot in the notebook.\n",
    "\n",
    "Next week in class we'll get new information and new assignments, but we'll pick on some of you and ask you to present their solutions by writing them down on a piece of paer in front of their camera, just as if you were in an interview. Of course, you had the ***huge*** advantage of prearation, but that is how you're going to get good at the technical interview, so you can land that coveted job at google or facebook.\n",
    "\n",
    "Please prepare this [material](https://youtu.be/nD1WrvoDXF0) to be ready to be interviewed for next week. You can also use a makeup case with built in mirror ;-)"
   ]
  },
  {
   "cell_type": "code",
   "execution_count": 24,
   "metadata": {},
   "outputs": [
    {
     "data": {
      "image/jpeg": "[encoded data removed]",
      "text/html": [
       "\n",
       "        <iframe\n",
       "            width=\"400\"\n",
       "            height=\"300\"\n",
       "            src=\"https://www.youtube.com/embed/nD1WrvoDXF0\"\n",
       "            frameborder=\"0\"\n",
       "            allowfullscreen\n",
       "        ></iframe>\n",
       "        "
      ],
      "text/plain": [
       "<IPython.lib.display.YouTubeVideo at 0x1e6138e7588>"
      ]
     },
     "execution_count": 24,
     "metadata": {},
     "output_type": "execute_result"
    }
   ],
   "source": [
    "from IPython.lib.display import YouTubeVideo\n",
    "YouTubeVideo('nD1WrvoDXF0')"
   ]
  },
  {
   "cell_type": "markdown",
   "metadata": {},
   "source": [
    "Thanks to Bartosz Zaczyński and [real python](https://realpython.com/python-bitwise-operators/) for the great bit manipulation tutorials!"
   ]
  },
  {
   "cell_type": "markdown",
   "metadata": {},
   "source": [
    "## 2.2 Recursion\n",
    "Let's write a function, `list_sum()`, which takes in a Python container object and sums its contents. "
   ]
  },
  {
   "cell_type": "code",
   "execution_count": null,
   "metadata": {},
   "outputs": [],
   "source": [
    "# non-recursive, iterative solution\n",
    "def list_sum(nums):\n",
    "    the_sum = 0\n",
    "    for i in nums:\n",
    "        the_sum = the_sum + i\n",
    "    return the_sum"
   ]
  },
  {
   "cell_type": "markdown",
   "metadata": {},
   "source": [
    "Let's use it!"
   ]
  },
  {
   "cell_type": "code",
   "execution_count": null,
   "metadata": {},
   "outputs": [],
   "source": [
    "import random\n",
    "nums = random.choices(range(100), k=10)\n",
    "nums"
   ]
  },
  {
   "cell_type": "code",
   "execution_count": null,
   "metadata": {},
   "outputs": [],
   "source": [
    "list_sum(nums)"
   ]
  },
  {
   "cell_type": "markdown",
   "metadata": {},
   "source": [
    "Now let's write the recursive analog of this function, which we'll call `list_sum_r()`:"
   ]
  },
  {
   "cell_type": "code",
   "execution_count": null,
   "metadata": {},
   "outputs": [],
   "source": [
    "def list_sum_r(nums):\n",
    "    if len(nums) == 1:  # Base Case\n",
    "        return nums[0]\n",
    "    else:\n",
    "        return nums[0] + list_sum_r(nums[1:]) "
   ]
  },
  {
   "cell_type": "code",
   "execution_count": null,
   "metadata": {},
   "outputs": [],
   "source": [
    "list_sum_r(nums)"
   ]
  },
  {
   "cell_type": "markdown",
   "metadata": {},
   "source": [
    "Do you see the way it works? It uses a computation pattern called **divide and conquer**. What it does is it takes one of the numbers in the list, $x$ and sums it to the rest by calling itself with a slightly smaller list than initially: the list minus the number $x$. Eventually, when the number of elements in the list reduces to 1, the recursive function ends the recursion by returning that last number.\n",
    "\n",
    "The best way to think about recursion in my opinion is to think about having multiple conversations: You start talking with Joe, then Sue interrupts, you freeze the conversation with Joe (and Joe alongside it), and you continue with Sue. Then Sam interrupts, so you freeze Sue, and continue on with Sam. When Sam is done, you unfreeze Sue. When Sue is done, you unfreeze Joe. And then you're done. In essence, you are walking *into* and then *out of* functions. An interruption is akin to a new conversation, and unfreezing is aking to a `return` from a function.\n",
    "\n",
    "And nothing stops you from talking about Joe while he's frozen and you're talking to Sue. So this [russian dolls](https://en.wikipedia.org/wiki/Matryoshka_doll) process should not throw you off.\n",
    "\n",
    "Python's *sys* module has a limit to the number of conversation freezes it can handle, though. And that is because Python, just like you, needs a lot memory to store all frozen conversations."
   ]
  },
  {
   "cell_type": "code",
   "execution_count": null,
   "metadata": {},
   "outputs": [],
   "source": [
    "import sys\n",
    "sys.getrecursionlimit()"
   ]
  },
  {
   "cell_type": "markdown",
   "metadata": {},
   "source": [
    "Nevertheless, an interview exercise *has nothing to do with reality*. Even though iterations are usually more performing (they work with the **heap**) than recursions (which work with **stack** memory), interviewers loooooooooooooooove recursion and think that a recursion-based solution is much smarter than an iterative one.\n",
    "\n",
    "Although it looks more confusing and a bit sexier, I think recursion sucks compared to iteration for many reasons. But you should *always* try a recursive solution in an interview. It just makes you look *smarter*.\n",
    "\n",
    "We'll continue next class with more examples of iteration vs. recursion."
   ]
  },
  {
   "cell_type": "markdown",
   "metadata": {},
   "source": [
    "# Appendix\n",
    "Math and Computation can reveal beautiful structure in the fabric of both our universe and imagined ones. Read [here](https://www.quantamagazine.org/statistics-postdoc-tames-decades-old-geometry-problem-20210301/) about Yuansi Chen and a great recent discovery about higher dimensional convex structures that is very relevant to data science. "
   ]
  }
 ],
 "metadata": {
  "kernelspec": {
   "display_name": "Python 3",
   "language": "python",
   "name": "python3"
  },
  "language_info": {
   "codemirror_mode": {
    "name": "ipython",
    "version": 3
   },
   "file_extension": ".py",
   "mimetype": "text/x-python",
   "name": "python",
   "nbconvert_exporter": "python",
   "pygments_lexer": "ipython3",
   "version": "3.6.9"
  }
 },
 "nbformat": 4,
 "nbformat_minor": 2
}
